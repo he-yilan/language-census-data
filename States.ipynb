{
  "nbformat": 4,
  "nbformat_minor": 0,
  "metadata": {
    "colab": {
      "provenance": [],
      "toc_visible": true,
      "authorship_tag": "ABX9TyNz23efOQFmSjMjPOnxu25Q",
      "include_colab_link": true
    },
    "kernelspec": {
      "name": "python3",
      "display_name": "Python 3"
    },
    "language_info": {
      "name": "python"
    }
  },
  "cells": [
    {
      "cell_type": "markdown",
      "metadata": {
        "id": "view-in-github",
        "colab_type": "text"
      },
      "source": [
        "<a href=\"https://colab.research.google.com/github/he-yilan/language-census-data/blob/main/States.ipynb\" target=\"_parent\"><img src=\"https://colab.research.google.com/assets/colab-badge.svg\" alt=\"Open In Colab\"/></a>"
      ]
    },
    {
      "cell_type": "markdown",
      "source": [
        "# Census data study of linguistic diversity"
      ],
      "metadata": {
        "id": "NcXSCRQjjH0i"
      }
    },
    {
      "cell_type": "code",
      "execution_count": 243,
      "metadata": {
        "colab": {
          "base_uri": "https://localhost:8080/"
        },
        "id": "9g1XhrqdY7Ik",
        "outputId": "4ba2089a-78e4-4c43-a7eb-17756eacd738"
      },
      "outputs": [
        {
          "output_type": "stream",
          "name": "stdout",
          "text": [
            "Drive already mounted at /content/drive; to attempt to forcibly remount, call drive.mount(\"/content/drive\", force_remount=True).\n"
          ]
        }
      ],
      "source": [
        "from google.colab import drive\n",
        "drive.mount('/content/drive')"
      ]
    },
    {
      "cell_type": "code",
      "source": [
        "from google.colab import files\n",
        "import pandas as pd\n",
        "import os\n",
        "import csv\n",
        "import re"
      ],
      "metadata": {
        "id": "b9Nt0hybuhvh"
      },
      "execution_count": 245,
      "outputs": []
    },
    {
      "cell_type": "code",
      "source": [
        "os.chdir('/content/drive/MyDrive/Ling55AC/assignment2/states') # the path where you store your csv files for all states"
      ],
      "metadata": {
        "id": "VtYEajLMuqgQ"
      },
      "execution_count": 246,
      "outputs": []
    },
    {
      "cell_type": "markdown",
      "source": [
        "## Population of users of a certain language in each state"
      ],
      "metadata": {
        "id": "HtfIQYz3kOYf"
      }
    },
    {
      "cell_type": "code",
      "source": [
        "state_files = os.listdir()"
      ],
      "metadata": {
        "id": "SY63vpI4vkYS"
      },
      "execution_count": 247,
      "outputs": []
    },
    {
      "cell_type": "code",
      "source": [
        "def to_list(this_path):\n",
        "  \"\"\"\n",
        "  Compiles all data from CSV file into a list of lists. \n",
        "  Each list is a row from the original CSV. \n",
        "  \"\"\"\n",
        "  lines = list()\n",
        "  remove= [1,2,3,4]\n",
        "\n",
        "  with open(this_path, 'r') as read_file:\n",
        "      reader = csv.reader(read_file)\n",
        "      for row_number, row in enumerate(reader, start=1):\n",
        "          if(row_number not in remove):\n",
        "              lines.append(row)\n",
        "\n",
        "  with open('new_csv.csv', 'w') as write_file:\n",
        "      writer = csv.writer(write_file)\n",
        "      writer.writerows(lines)\n",
        "  return lines"
      ],
      "metadata": {
        "id": "OhKc518H85b3"
      },
      "execution_count": 248,
      "outputs": []
    },
    {
      "cell_type": "code",
      "source": [
        "def get_lang_list(lang_name, lang_matrix):\n",
        "  \"\"\"\n",
        "  Extracts the list from the matrix that holds the data about the language we are interested in. \n",
        "  \"\"\"\n",
        "  for lang_list in lang_matrix:\n",
        "    if re.search(\".*\" + lang_name, lang_list[0]) is not None: \n",
        "      return lang_list"
      ],
      "metadata": {
        "id": "f_Yoxi6w8_yl"
      },
      "execution_count": 249,
      "outputs": []
    },
    {
      "cell_type": "code",
      "source": [
        "def get_all_states_speakers(lang_name):\n",
        "  \"\"\"\n",
        "  Iterates through all the states and finds the population of lang_name speakers in that state. \n",
        "  Returns a list of tuples, matching the state to its population of speakers. \n",
        "  \"\"\"\n",
        "  result = []\n",
        "  for file in state_files: \n",
        "    state_list = to_list(file)\n",
        "    lang_list = get_lang_list(lang_name, state_list)\n",
        "    if lang_list is None: \n",
        "        num_speakers = 0\n",
        "    elif lang_list[1] != '(D)':\n",
        "      num_speakers = int(lang_list[1])\n",
        "    else:\n",
        "      num_speakers = 0\n",
        "    result.append((file, num_speakers))\n",
        "  return result"
      ],
      "metadata": {
        "id": "NwT-iU-n-74o"
      },
      "execution_count": 250,
      "outputs": []
    },
    {
      "cell_type": "code",
      "source": [
        "def sorted_states(lang_name):\n",
        "  \"\"\"\n",
        "  Gets the populations of lang_name speakers in each state, \n",
        "  compiles them into a list, and then sorts the list in descending. \n",
        "  \"\"\"\n",
        "  lang_states = get_all_states_speakers(lang_name)\n",
        "  return sorted(lang_states, key=lambda x: x[1], reverse = True)"
      ],
      "metadata": {
        "id": "N25gqUFuHWqR"
      },
      "execution_count": 251,
      "outputs": []
    },
    {
      "cell_type": "code",
      "source": [
        "nepali = sorted_states(\"Nepali\")\n",
        "navajo = sorted_states(\"Navajo\")\n",
        "yiddish = sorted_states(\"Yiddish\")"
      ],
      "metadata": {
        "id": "fWjEEXSkHk0r"
      },
      "execution_count": 252,
      "outputs": []
    },
    {
      "cell_type": "code",
      "source": [
        "lang_names = [\"Nepali\", \"Navajo\", \"Yiddish\"] # names of 3 languages"
      ],
      "metadata": {
        "id": "KeoNE_aSr2ST"
      },
      "execution_count": 253,
      "outputs": []
    },
    {
      "cell_type": "code",
      "source": [
        "lang_state_lists = [nepali, navajo, yiddish] # number of users of the 3 languages in all states"
      ],
      "metadata": {
        "id": "dHgJLztzrtJl"
      },
      "execution_count": 254,
      "outputs": []
    },
    {
      "cell_type": "markdown",
      "source": [
        "## Percentage of national population"
      ],
      "metadata": {
        "id": "Wevnt68VkZ_a"
      }
    },
    {
      "cell_type": "code",
      "source": [
        "os.chdir('/content/drive/MyDrive/Ling55AC/assignment2') # the path where you store your csv files for national data"
      ],
      "metadata": {
        "id": "TxUIwZcylh-H"
      },
      "execution_count": 255,
      "outputs": []
    },
    {
      "cell_type": "code",
      "source": [
        "us_data = to_list(\"US.csv\")"
      ],
      "metadata": {
        "id": "o36jFdEimA1D"
      },
      "execution_count": 256,
      "outputs": []
    },
    {
      "cell_type": "code",
      "source": [
        "def get_national_speakers(lang_name):\n",
        "  \"\"\"\n",
        "  Gets the total number of people in the US who speak a certain language\n",
        "  \"\"\"\n",
        "  us_pop = get_lang_list(lang_name, us_data)\n",
        "  for i in range(len(us_pop)): \n",
        "    us_pop[i] = us_pop[i].replace(\",\", \"\")\n",
        "  return int(us_pop[1])"
      ],
      "metadata": {
        "id": "bX_A969KqVyu"
      },
      "execution_count": 257,
      "outputs": []
    },
    {
      "cell_type": "code",
      "source": [
        "def get_state_percentage(lang_name, sorted_state_list, index): \n",
        "  \"\"\"\n",
        "  Gets the percentage of speakers in the US who resides in a certain state (index). \n",
        "  \"\"\"\n",
        "  num_speakers_us = get_national_speakers(lang_name)\n",
        "  num_speakers_state = sorted_state_list[index][1]\n",
        "  return num_speakers_state / num_speakers_us"
      ],
      "metadata": {
        "id": "6sYZjQfCpTTG"
      },
      "execution_count": 258,
      "outputs": []
    },
    {
      "cell_type": "code",
      "source": [
        "def get_top_percentages(): \n",
        "  \"\"\"\n",
        "  Gets the percentage of speakers residing in the top 3 states. \n",
        "  Returns the top 3 states for each language. \n",
        "  \"\"\"\n",
        "  result = []\n",
        "  for i in range(3): \n",
        "    top = []\n",
        "    l = lang_names[i]\n",
        "    lang_state_list = lang_state_lists[i]\n",
        "    print(l)\n",
        "    top.append(l)\n",
        "    top.extend([lang_state_list[0][0], lang_state_list[1][0], lang_state_list[2][0]])\n",
        "    for j in range(3): \n",
        "      percentage = get_state_percentage(l, lang_state_list, j)\n",
        "      percentage = percentage * 100\n",
        "      print(\"{p}% , of users reside in the top {rank} state\".format(p = str(percentage), rank = j+1))\n",
        "    result.append(top)\n",
        "    print()\n",
        "  return result"
      ],
      "metadata": {
        "id": "j8aAHU-Krd4T"
      },
      "execution_count": 261,
      "outputs": []
    },
    {
      "cell_type": "markdown",
      "source": [
        "## Percentage of a state total population"
      ],
      "metadata": {
        "id": "e5rhRE3GysjD"
      }
    },
    {
      "cell_type": "code",
      "source": [
        "os.chdir('/content/drive/MyDrive/Ling55AC/assignment2/states') # the path where you store your csv files for all states"
      ],
      "metadata": {
        "id": "d0Fzb-w1zgfy"
      },
      "execution_count": 263,
      "outputs": []
    },
    {
      "cell_type": "code",
      "source": [
        "nepali_states = tops[0][1:]\n",
        "navajo_states = tops[1][1:]\n",
        "yiddish_states = tops[2][1:]"
      ],
      "metadata": {
        "id": "UYr1OXJ-yisG"
      },
      "execution_count": 264,
      "outputs": []
    },
    {
      "cell_type": "code",
      "source": [
        "def get_state_population(state_path):\n",
        "  \"\"\"\n",
        "  Gets the total population of a state\n",
        "  \"\"\"\n",
        "  state_list = to_list(state_path)\n",
        "  for list in state_list: \n",
        "    if re.search(\".*\" + 'Population 5 years and over', list[0]) is not None: \n",
        "      return int(list[1])"
      ],
      "metadata": {
        "id": "oYx6MRdkzc7y"
      },
      "execution_count": 265,
      "outputs": []
    },
    {
      "cell_type": "code",
      "source": [
        "def get_top_states_populations(path_list): \n",
        "  \"\"\"\n",
        "  Gets the total populations of the states in path_list\n",
        "  \"\"\"\n",
        "  pops = []\n",
        "  for path in path_list: \n",
        "    pop = get_state_population(path)\n",
        "    pops.append(pop)\n",
        "  return pops"
      ],
      "metadata": {
        "id": "S5ixfBoA0QWb"
      },
      "execution_count": 266,
      "outputs": []
    },
    {
      "cell_type": "code",
      "source": [
        "def get_percentage_in_state(path_list, list_tuples):\n",
        "  \"\"\"\n",
        "  Get percentage of the total population of a state that use a certain language\n",
        "  \"\"\" \n",
        "  percentages = []\n",
        "  total_pops = get_top_states_populations(path_list)\n",
        "  for i in range(len(total_pops)): \n",
        "    total_state = total_pops[i]\n",
        "    speaker_pop = list_tuples[i][1]\n",
        "    percentage = speaker_pop / total_state\n",
        "    percentage *= 100\n",
        "    percentages.append(percentage)\n",
        "    print(\"{p}% of residents in {state} use this language\".format(p = str(percentage), state = path_list[i]))\n",
        "  return percentages"
      ],
      "metadata": {
        "id": "gGfBPqF52e9M"
      },
      "execution_count": 272,
      "outputs": []
    },
    {
      "cell_type": "markdown",
      "source": [
        "## English level"
      ],
      "metadata": {
        "id": "H_85eWkk-WZb"
      }
    },
    {
      "cell_type": "code",
      "source": [
        "def get_eng(path_list, lang_name):\n",
        "  \"\"\"\n",
        "  Gets the number of language users who report \"speaking English less than 'very well'\"\n",
        "  \"\"\"\n",
        "  result = []\n",
        "  for path in path_list: \n",
        "    state_list = to_list(path)\n",
        "    lang_list = get_lang_list(lang_name, state_list)\n",
        "    eng = lang_list[3]\n",
        "    result.append((path, eng))\n",
        "  return result"
      ],
      "metadata": {
        "id": "ARiBixc36Q-7"
      },
      "execution_count": 268,
      "outputs": []
    },
    {
      "cell_type": "code",
      "source": [
        "def get_eng_percentage(speakers, engs): \n",
        "  \"\"\"\n",
        "  Takes the percentage of the total number of speakers in the state\n",
        "  \"\"\"\n",
        "  percentages = []\n",
        "  for i in range(len(engs)):\n",
        "    num_speakers = int(speakers[i][1])\n",
        "    num_eng = int(engs[i][1])\n",
        "    percentage = num_eng / num_speakers\n",
        "    percentage *= 100\n",
        "    percentages.append((engs[i][0], percentage))\n",
        "  return percentages"
      ],
      "metadata": {
        "id": "4ec91K5T7ok0"
      },
      "execution_count": 269,
      "outputs": []
    },
    {
      "cell_type": "code",
      "source": [
        "nepali_eng_levels = get_eng_percentage(nepali, get_eng(nepali_states, \"Nepali\"))\n",
        "navajo_eng_levels = get_eng_percentage(navajo, get_eng(navajo_states, \"Navajo\"))\n",
        "yiddish_eng_levels = get_eng_percentage(yiddish, get_eng(yiddish_states, \"Yiddish\"))"
      ],
      "metadata": {
        "id": "CydbgSyz8RCX"
      },
      "execution_count": 270,
      "outputs": []
    },
    {
      "cell_type": "code",
      "source": [],
      "metadata": {
        "id": "_0fS-c1p-QHh"
      },
      "execution_count": 234,
      "outputs": []
    }
  ]
}