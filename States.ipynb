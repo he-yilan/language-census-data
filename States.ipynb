{
  "nbformat": 4,
  "nbformat_minor": 0,
  "metadata": {
    "colab": {
      "provenance": [],
      "toc_visible": true,
      "authorship_tag": "ABX9TyODVr/VGlXneA304lSO3geU",
      "include_colab_link": true
    },
    "kernelspec": {
      "name": "python3",
      "display_name": "Python 3"
    },
    "language_info": {
      "name": "python"
    }
  },
  "cells": [
    {
      "cell_type": "markdown",
      "metadata": {
        "id": "view-in-github",
        "colab_type": "text"
      },
      "source": [
        "<a href=\"https://colab.research.google.com/github/he-yilan/language-speaker-populations/blob/main/States.ipynb\" target=\"_parent\"><img src=\"https://colab.research.google.com/assets/colab-badge.svg\" alt=\"Open In Colab\"/></a>"
      ]
    },
    {
      "cell_type": "markdown",
      "source": [
        "# Census data study of linguistic diversity"
      ],
      "metadata": {
        "id": "NcXSCRQjjH0i"
      }
    },
    {
      "cell_type": "code",
      "execution_count": 40,
      "metadata": {
        "colab": {
          "base_uri": "https://localhost:8080/"
        },
        "id": "9g1XhrqdY7Ik",
        "outputId": "79403f1b-eec5-4e15-bc01-e9cd3ee4fc00"
      },
      "outputs": [
        {
          "output_type": "stream",
          "name": "stdout",
          "text": [
            "Drive already mounted at /content/drive; to attempt to forcibly remount, call drive.mount(\"/content/drive\", force_remount=True).\n"
          ]
        }
      ],
      "source": [
        "from google.colab import drive\n",
        "drive.mount('/content/drive')"
      ]
    },
    {
      "cell_type": "code",
      "source": [
        "from google.colab import files\n",
        "import pandas as pd\n",
        "import os\n",
        "import csv\n",
        "import re"
      ],
      "metadata": {
        "id": "b9Nt0hybuhvh"
      },
      "execution_count": 41,
      "outputs": []
    },
    {
      "cell_type": "code",
      "source": [
        "os.chdir('/content/drive/MyDrive/Ling55AC/assignment2/states') # the path where you store your csv files for all states"
      ],
      "metadata": {
        "id": "VtYEajLMuqgQ"
      },
      "execution_count": 42,
      "outputs": []
    },
    {
      "cell_type": "markdown",
      "source": [
        "## Population of speakers of a certain language in each state"
      ],
      "metadata": {
        "id": "HtfIQYz3kOYf"
      }
    },
    {
      "cell_type": "code",
      "source": [
        "state_files = os.listdir()"
      ],
      "metadata": {
        "id": "SY63vpI4vkYS"
      },
      "execution_count": 43,
      "outputs": []
    },
    {
      "cell_type": "code",
      "source": [
        "def to_list(this_path):\n",
        "  \"\"\"\n",
        "  Compiles all data from CSV file into a list of lists. \n",
        "  Each list is a row from the original CSV. \n",
        "  \"\"\"\n",
        "  lines = list()\n",
        "  remove= [1,2,3,4]\n",
        "\n",
        "  with open(this_path, 'r') as read_file:\n",
        "      reader = csv.reader(read_file)\n",
        "      for row_number, row in enumerate(reader, start=1):\n",
        "          if(row_number not in remove):\n",
        "              lines.append(row)\n",
        "\n",
        "  with open('new_csv.csv', 'w') as write_file:\n",
        "      writer = csv.writer(write_file)\n",
        "      writer.writerows(lines)\n",
        "  return lines"
      ],
      "metadata": {
        "id": "OhKc518H85b3"
      },
      "execution_count": 44,
      "outputs": []
    },
    {
      "cell_type": "code",
      "source": [
        "def get_lang_list(lang_name, lang_matrix):\n",
        "  \"\"\"\n",
        "  Extracts the list from the matrix that holds the data about the language we are interested in. \n",
        "  \"\"\"\n",
        "  for lang_list in lang_matrix:\n",
        "    if re.search(\".*\" + lang_name, lang_list[0]) is not None: \n",
        "      return lang_list"
      ],
      "metadata": {
        "id": "f_Yoxi6w8_yl"
      },
      "execution_count": 45,
      "outputs": []
    },
    {
      "cell_type": "code",
      "source": [
        "def get_all_states_speakers(lang_name):\n",
        "  \"\"\"\n",
        "  Iterates through all the states and finds the population of lang_name speakers in that state. \n",
        "  Returns a list of tuples, matching the state to its population of speakers. \n",
        "  \"\"\"\n",
        "  result = []\n",
        "  for file in state_files: \n",
        "    state_list = to_list(file)\n",
        "    lang_list = get_lang_list(lang_name, state_list)\n",
        "    if lang_list is None: \n",
        "        num_speakers = 0\n",
        "    elif lang_list[1] != '(D)':\n",
        "      num_speakers = int(lang_list[1])\n",
        "    else:\n",
        "      num_speakers = 0\n",
        "    result.append((file, num_speakers))\n",
        "  return result"
      ],
      "metadata": {
        "id": "NwT-iU-n-74o"
      },
      "execution_count": 46,
      "outputs": []
    },
    {
      "cell_type": "code",
      "source": [
        "def sorted_states(lang_name):\n",
        "  \"\"\"\n",
        "  Gets the populations of lang_name speakers in each state, \n",
        "  compiles them into a list, and then sorts the list in descending. \n",
        "  \"\"\"\n",
        "  lang_states = get_all_states_speakers(lang_name)\n",
        "  return sorted(lang_states, key=lambda x: x[1], reverse = True)"
      ],
      "metadata": {
        "id": "N25gqUFuHWqR"
      },
      "execution_count": 47,
      "outputs": []
    },
    {
      "cell_type": "code",
      "source": [
        "nepali = sorted_states(\"Nepali\")\n",
        "navajo = sorted_states(\"Navajo\")\n",
        "yiddish = sorted_states(\"Yiddish\")"
      ],
      "metadata": {
        "id": "fWjEEXSkHk0r"
      },
      "execution_count": 48,
      "outputs": []
    },
    {
      "cell_type": "code",
      "source": [
        "nepali"
      ],
      "metadata": {
        "colab": {
          "base_uri": "https://localhost:8080/"
        },
        "id": "bTCmeITBvSQL",
        "outputId": "229281ee-caff-4cf1-f87a-479dd6db34a4"
      },
      "execution_count": 98,
      "outputs": [
        {
          "output_type": "execute_result",
          "data": {
            "text/plain": [
              "[('Texas.csv', 11735),\n",
              " ('New York.csv', 9015),\n",
              " ('California.csv', 7165),\n",
              " ('Virginia.csv', 6305),\n",
              " ('Massachusetts.csv', 5415),\n",
              " ('Pennsylvania.csv', 4720),\n",
              " ('Maryland.csv', 4240),\n",
              " ('Colorado.csv', 3615),\n",
              " ('Georgia.csv', 3345),\n",
              " ('Illinois.csv', 3135),\n",
              " ('Michigan.csv', 2405),\n",
              " ('Washington.csv', 2385),\n",
              " ('North Carolina.csv', 2260),\n",
              " ('Ohio.csv', 2130),\n",
              " ('New Hampshire.csv', 1990),\n",
              " ('Utah.csv', 1985),\n",
              " ('Kentucky.csv', 1855),\n",
              " ('Minnesota.csv', 1675),\n",
              " ('Florida.csv', 1525),\n",
              " ('Connecticut.csv', 1325),\n",
              " ('Missouri.csv', 1290),\n",
              " ('Tennessee.csv', 1185),\n",
              " ('Nebraska.csv', 1110),\n",
              " ('Arizona.csv', 1085),\n",
              " ('Oregon.csv', 1045),\n",
              " ('Nevada.csv', 1030),\n",
              " ('Idaho.csv', 890),\n",
              " ('New Jersey.csv', 805),\n",
              " ('Wisconsin.csv', 795),\n",
              " ('Vermont.csv', 790),\n",
              " ('Iowa.csv', 720),\n",
              " ('Kansas.csv', 685),\n",
              " ('Rhode Island.csv', 575),\n",
              " ('Alabama.csv', 555),\n",
              " ('South Dakota.csv', 480),\n",
              " ('Louisiana.csv', 340),\n",
              " ('Arkansas.csv', 320),\n",
              " ('West Virginia.csv', 305),\n",
              " ('Alaska.csv', 300),\n",
              " ('South Carolina.csv', 270),\n",
              " ('North Dakota.csv', 260),\n",
              " ('Indiana.csv', 245),\n",
              " ('Oklahoma.csv', 245),\n",
              " ('New Mexico.csv', 155),\n",
              " ('Delaware.csv', 115),\n",
              " ('Mississippi.csv', 110),\n",
              " ('Hawaii.csv', 100),\n",
              " ('Wyoming.csv', 90),\n",
              " ('District of Columbia.csv', 85),\n",
              " ('Puerto Rico.csv', 15),\n",
              " ('new_csv.csv', 15),\n",
              " ('Maine.csv', 0),\n",
              " ('Montana.csv', 0)]"
            ]
          },
          "metadata": {},
          "execution_count": 98
        }
      ]
    },
    {
      "cell_type": "code",
      "source": [
        "lang_names = [\"Nepali\", \"Navajo\", \"Yiddish\"]"
      ],
      "metadata": {
        "id": "KeoNE_aSr2ST"
      },
      "execution_count": 69,
      "outputs": []
    },
    {
      "cell_type": "code",
      "source": [
        "lang_state_lists = [nepali, navajo, yiddish]"
      ],
      "metadata": {
        "id": "dHgJLztzrtJl"
      },
      "execution_count": 70,
      "outputs": []
    },
    {
      "cell_type": "markdown",
      "source": [
        "## Percentage of national population"
      ],
      "metadata": {
        "id": "Wevnt68VkZ_a"
      }
    },
    {
      "cell_type": "code",
      "source": [
        "os.chdir('/content/drive/MyDrive/Ling55AC/assignment2') # the path where you store your csv files for national data"
      ],
      "metadata": {
        "id": "TxUIwZcylh-H"
      },
      "execution_count": 55,
      "outputs": []
    },
    {
      "cell_type": "code",
      "source": [
        "us_data = to_list(\"US.csv\")"
      ],
      "metadata": {
        "id": "o36jFdEimA1D"
      },
      "execution_count": 60,
      "outputs": []
    },
    {
      "cell_type": "code",
      "source": [
        "def get_national_speakers(lang_name):\n",
        "  \"\"\"\n",
        "  Gets the total number of people in the US who speak a certain language\n",
        "  \"\"\"\n",
        "  us_pop = get_lang_list(lang_name, us_data)\n",
        "  for i in range(len(us_pop)): \n",
        "    us_pop[i] = us_pop[i].replace(\",\", \"\")\n",
        "  return int(us_pop[1])"
      ],
      "metadata": {
        "id": "bX_A969KqVyu"
      },
      "execution_count": 118,
      "outputs": []
    },
    {
      "cell_type": "code",
      "source": [
        "def get_state_percentage(lang_name, sorted_state_list, index): \n",
        "  \"\"\"\n",
        "  Gets the percentage of speakers in the US who resides in a certain state (index). \n",
        "  \"\"\"\n",
        "  num_speakers_us = get_national_speakers(lang_name)\n",
        "  # print(\"national speakers:\", num_speakers_us)\n",
        "  # print('state:', sorted_state_list[index][0])\n",
        "  num_speakers_state = sorted_state_list[index][1]\n",
        "  # print('i:', index)\n",
        "  # print(\"speakers in top i state:\", num_speakers_state)\n",
        "  return num_speakers_state / num_speakers_us"
      ],
      "metadata": {
        "id": "6sYZjQfCpTTG"
      },
      "execution_count": 119,
      "outputs": []
    },
    {
      "cell_type": "code",
      "source": [
        "def get_top_percentages(): \n",
        "  \"\"\"\n",
        "  Gets the percentage of speakers residing in the top 3 states. \n",
        "  Returns the top 3 states for each language. \n",
        "  \"\"\"\n",
        "  result = []\n",
        "  for i in range(3): \n",
        "    top = []\n",
        "    l = lang_names[i]\n",
        "    lang_state_list = lang_state_lists[i]\n",
        "    print(l)\n",
        "    top.append(l)\n",
        "    top.extend([lang_state_list[0][0], lang_state_list[1][0], lang_state_list[2][0]])\n",
        "    for j in range(3): \n",
        "      percentage = get_state_percentage(l, lang_state_list, j)\n",
        "      percentage = percentage * 100\n",
        "      print(\"{p}% , of speakers reside in the top {rank} state\".format(p = str(percentage), rank = j+1))\n",
        "    result.append(top)\n",
        "    print()\n",
        "  return result"
      ],
      "metadata": {
        "id": "j8aAHU-Krd4T"
      },
      "execution_count": 123,
      "outputs": []
    },
    {
      "cell_type": "code",
      "source": [
        "tops = get_top_percentages()"
      ],
      "metadata": {
        "colab": {
          "base_uri": "https://localhost:8080/"
        },
        "id": "bdn-aMXntaNH",
        "outputId": "38696086-3271-4687-d564-2c103224ce75"
      },
      "execution_count": 124,
      "outputs": [
        {
          "output_type": "stream",
          "name": "stdout",
          "text": [
            "Nepali\n",
            "12.454892804075568% , of speakers reside in the top 1 state\n",
            "9.568032264911908% , of speakers reside in the top 2 state\n",
            "7.604542559966037% , of speakers reside in the top 3 state\n",
            "\n",
            "Navajo\n",
            "50.227182813230556% , of speakers reside in the top 1 state\n",
            "38.38730173953701% , of speakers reside in the top 2 state\n",
            "4.911104983635645% , of speakers reside in the top 3 state\n",
            "\n",
            "Yiddish\n",
            "82.76021647748453% , of speakers reside in the top 1 state\n",
            "4.2337802573562495% , of speakers reside in the top 2 state\n",
            "3.718296461030196% , of speakers reside in the top 3 state\n",
            "\n"
          ]
        }
      ]
    },
    {
      "cell_type": "code",
      "source": [
        "tops"
      ],
      "metadata": {
        "colab": {
          "base_uri": "https://localhost:8080/"
        },
        "id": "4OAuLwC4qSiy",
        "outputId": "6cd7baeb-780b-4205-e7ec-a09686c25cb5"
      },
      "execution_count": 126,
      "outputs": [
        {
          "output_type": "execute_result",
          "data": {
            "text/plain": [
              "[['Nepali', 'Texas.csv', 'New York.csv', 'California.csv'],\n",
              " ['Navajo', 'Arizona.csv', 'New Mexico.csv', 'Utah.csv'],\n",
              " ['Yiddish', 'New York.csv', 'New Jersey.csv', 'Florida.csv']]"
            ]
          },
          "metadata": {},
          "execution_count": 126
        }
      ]
    },
    {
      "cell_type": "markdown",
      "source": [
        "## Percentage of a state total population"
      ],
      "metadata": {
        "id": "e5rhRE3GysjD"
      }
    },
    {
      "cell_type": "code",
      "source": [
        "os.chdir('/content/drive/MyDrive/Ling55AC/assignment2/states') # the path where you store your csv files for all states"
      ],
      "metadata": {
        "id": "d0Fzb-w1zgfy"
      },
      "execution_count": 133,
      "outputs": []
    },
    {
      "cell_type": "code",
      "source": [
        "nepali_states = tops[0][1:]\n",
        "navajo_states = tops[1][1:]\n",
        "yiddish_states = tops[2][1:]"
      ],
      "metadata": {
        "id": "UYr1OXJ-yisG"
      },
      "execution_count": 177,
      "outputs": []
    },
    {
      "cell_type": "code",
      "source": [
        "def get_state_population(state_path):\n",
        "  \"\"\"\n",
        "  Gets the total population of a state\n",
        "  \"\"\"\n",
        "  state_list = to_list(state_path)\n",
        "  for list in state_list: \n",
        "    if re.search(\".*\" + 'Population 5 years and over', list[0]) is not None: \n",
        "      return int(list[1])"
      ],
      "metadata": {
        "id": "oYx6MRdkzc7y"
      },
      "execution_count": 178,
      "outputs": []
    },
    {
      "cell_type": "code",
      "source": [
        "def get_top_states_populations(path_list): \n",
        "  \"\"\"\n",
        "  Gets the total populations of the states in path_list\n",
        "  \"\"\"\n",
        "  pops = []\n",
        "  # print(path_list)\n",
        "  for path in path_list: \n",
        "    # print(path)\n",
        "    pop = get_state_population(path)\n",
        "    pops.append(pop)\n",
        "    # print('total population:', pop)\n",
        "  return pops"
      ],
      "metadata": {
        "id": "S5ixfBoA0QWb"
      },
      "execution_count": 179,
      "outputs": []
    },
    {
      "cell_type": "code",
      "source": [
        "def get_percentage_in_state(path_list, list_tuples): \n",
        "  percentages = []\n",
        "  total_pops = get_top_states_populations(path_list)\n",
        "  for i in range(len(total_pops)): \n",
        "    total_state = total_pops[i]\n",
        "    speaker_pop = list_tuples[i][1]\n",
        "    percentage = speaker_pop / total_state\n",
        "    percentage *= 100\n",
        "    percentages.append(percentage)\n",
        "    print(\"{p}% of residents in {state} use this language\".format(p = str(percentage), state = path_list[i]))\n",
        "  return percentages"
      ],
      "metadata": {
        "id": "gGfBPqF52e9M"
      },
      "execution_count": 217,
      "outputs": []
    },
    {
      "cell_type": "code",
      "source": [
        "get_percentage_in_state(nepali_states, nepali)"
      ],
      "metadata": {
        "colab": {
          "base_uri": "https://localhost:8080/"
        },
        "id": "WpW6j3vU9g7r",
        "outputId": "3c24612e-391d-410c-e49e-0bf438b34f6b"
      },
      "execution_count": 218,
      "outputs": [
        {
          "output_type": "stream",
          "name": "stdout",
          "text": [
            "0.049505577023674925% of residents in Texas.csv use this language\n",
            "0.04920186551206288% of residents in New York.csv use this language\n",
            "0.02039484360286056% of residents in California.csv use this language\n"
          ]
        },
        {
          "output_type": "execute_result",
          "data": {
            "text/plain": [
              "[0.049505577023674925, 0.04920186551206288, 0.02039484360286056]"
            ]
          },
          "metadata": {},
          "execution_count": 218
        }
      ]
    },
    {
      "cell_type": "code",
      "source": [
        "get_percentage_in_state(navajo_states, navajo)"
      ],
      "metadata": {
        "colab": {
          "base_uri": "https://localhost:8080/"
        },
        "id": "3HHD3xiK9l3-",
        "outputId": "a2edfde3-399f-4ce2-c6ab-7472435a1eeb"
      },
      "execution_count": 219,
      "outputs": [
        {
          "output_type": "stream",
          "name": "stdout",
          "text": [
            "1.3888605730972576% of residents in Arizona.csv use this language\n",
            "3.321278744179075% of residents in New Mexico.csv use this language\n",
            "0.3207493468935702% of residents in Utah.csv use this language\n"
          ]
        },
        {
          "output_type": "execute_result",
          "data": {
            "text/plain": [
              "[1.3888605730972576, 3.321278744179075, 0.3207493468935702]"
            ]
          },
          "metadata": {},
          "execution_count": 219
        }
      ]
    },
    {
      "cell_type": "code",
      "source": [
        "get_percentage_in_state(yiddish_states, yiddish)"
      ],
      "metadata": {
        "colab": {
          "base_uri": "https://localhost:8080/"
        },
        "id": "-hiLule69oni",
        "outputId": "414f3235-5b77-4b53-fe47-c3c94da67882"
      },
      "execution_count": 220,
      "outputs": [
        {
          "output_type": "stream",
          "name": "stdout",
          "text": [
            "0.7027434501756203% of residents in New York.csv use this language\n",
            "0.07941407913847479% of residents in New Jersey.csv use this language\n",
            "0.03211239259695278% of residents in Florida.csv use this language\n"
          ]
        },
        {
          "output_type": "execute_result",
          "data": {
            "text/plain": [
              "[0.7027434501756203, 0.07941407913847479, 0.03211239259695278]"
            ]
          },
          "metadata": {},
          "execution_count": 220
        }
      ]
    },
    {
      "cell_type": "markdown",
      "source": [
        "## English level"
      ],
      "metadata": {
        "id": "H_85eWkk-WZb"
      }
    },
    {
      "cell_type": "code",
      "source": [
        "def get_eng(path_list, lang_name):\n",
        "  \"\"\"\n",
        "  Gets the number of language users who report \"speaking English less than 'very well'\"\n",
        "  \"\"\"\n",
        "  result = []\n",
        "  for path in path_list: \n",
        "    state_list = to_list(path)\n",
        "    lang_list = get_lang_list(lang_name, state_list)\n",
        "    eng = lang_list[3]\n",
        "    result.append((path, eng))\n",
        "  return result"
      ],
      "metadata": {
        "id": "ARiBixc36Q-7"
      },
      "execution_count": 235,
      "outputs": []
    },
    {
      "cell_type": "code",
      "source": [
        "def get_eng_percentage(speakers, engs): \n",
        "  \"\"\"\n",
        "  Takes the percentage of the total number of speakers in the state\n",
        "  \"\"\"\n",
        "  percentages = []\n",
        "  for i in range(len(engs)):\n",
        "    num_speakers = int(speakers[i][1])\n",
        "    num_eng = int(engs[i][1])\n",
        "    percentage = num_eng / num_speakers\n",
        "    percentage *= 100\n",
        "    percentages.append((engs[i][0], percentage))\n",
        "  return percentages"
      ],
      "metadata": {
        "id": "4ec91K5T7ok0"
      },
      "execution_count": 236,
      "outputs": []
    },
    {
      "cell_type": "code",
      "source": [
        "nepali_eng_levels = get_eng_percentage(nepali, get_eng(nepali_states, \"Nepali\"))\n",
        "nepali_eng_levels"
      ],
      "metadata": {
        "colab": {
          "base_uri": "https://localhost:8080/"
        },
        "id": "CydbgSyz8RCX",
        "outputId": "b5202e0b-72fd-4971-e307-8b6363d9521e"
      },
      "execution_count": 237,
      "outputs": [
        {
          "output_type": "execute_result",
          "data": {
            "text/plain": [
              "[('Texas.csv', 55.30464422667235),\n",
              " ('New York.csv', 63.78258458125347),\n",
              " ('California.csv', 54.78018143754362)]"
            ]
          },
          "metadata": {},
          "execution_count": 237
        }
      ]
    },
    {
      "cell_type": "code",
      "source": [
        "navajo_eng_levels = get_eng_percentage(navajo, get_eng(navajo_states, \"Navajo\"))\n",
        "navajo_eng_levels"
      ],
      "metadata": {
        "colab": {
          "base_uri": "https://localhost:8080/"
        },
        "id": "h1Ax21h98dru",
        "outputId": "7e9f8b74-cc14-4f5e-fc1f-547932cd7761"
      },
      "execution_count": 238,
      "outputs": [
        {
          "output_type": "execute_result",
          "data": {
            "text/plain": [
              "[('Arizona.csv', 25.038189803322513),\n",
              " ('New Mexico.csv', 18.080886945658964),\n",
              " ('Utah.csv', 15.720737214695472)]"
            ]
          },
          "metadata": {},
          "execution_count": 238
        }
      ]
    },
    {
      "cell_type": "code",
      "source": [
        "yiddish_eng_levels = get_eng_percentage(yiddish, get_eng(yiddish_states, \"Yiddish\"))\n",
        "yiddish_eng_levels"
      ],
      "metadata": {
        "colab": {
          "base_uri": "https://localhost:8080/"
        },
        "id": "s-siM-tP9OY-",
        "outputId": "31900c41-70e7-42f4-ce62-b9a1ec386fee"
      },
      "execution_count": 239,
      "outputs": [
        {
          "output_type": "execute_result",
          "data": {
            "text/plain": [
              "[('New York.csv', 38.74417520969245),\n",
              " ('New Jersey.csv', 7.4692576286625165),\n",
              " ('Florida.csv', 14.312878133102853)]"
            ]
          },
          "metadata": {},
          "execution_count": 239
        }
      ]
    },
    {
      "cell_type": "code",
      "source": [],
      "metadata": {
        "id": "_0fS-c1p-QHh"
      },
      "execution_count": 234,
      "outputs": []
    }
  ]
}