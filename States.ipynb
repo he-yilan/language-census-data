{
  "nbformat": 4,
  "nbformat_minor": 0,
  "metadata": {
    "colab": {
      "provenance": []
    },
    "kernelspec": {
      "name": "python3",
      "display_name": "Python 3"
    },
    "language_info": {
      "name": "python"
    }
  },
  "cells": [
    {
      "cell_type": "code",
      "execution_count": 148,
      "metadata": {
        "colab": {
          "base_uri": "https://localhost:8080/"
        },
        "id": "9g1XhrqdY7Ik",
        "outputId": "8b777bcb-42c4-4d4f-98d2-4ec032b969da"
      },
      "outputs": [
        {
          "output_type": "stream",
          "name": "stdout",
          "text": [
            "Drive already mounted at /content/drive; to attempt to forcibly remount, call drive.mount(\"/content/drive\", force_remount=True).\n"
          ]
        }
      ],
      "source": [
        "from google.colab import drive\n",
        "drive.mount('/content/drive')"
      ]
    },
    {
      "cell_type": "code",
      "source": [
        "from google.colab import files\n",
        "import pandas as pd\n",
        "import os\n",
        "import csv\n",
        "import re"
      ],
      "metadata": {
        "id": "b9Nt0hybuhvh"
      },
      "execution_count": 149,
      "outputs": []
    },
    {
      "cell_type": "code",
      "source": [
        "os.chdir('/content/drive/MyDrive/Ling55AC/states') # the path where you store your csv files for all states"
      ],
      "metadata": {
        "id": "VtYEajLMuqgQ"
      },
      "execution_count": 150,
      "outputs": []
    },
    {
      "cell_type": "code",
      "source": [
        "state_files = os.listdir()"
      ],
      "metadata": {
        "id": "SY63vpI4vkYS"
      },
      "execution_count": 151,
      "outputs": []
    },
    {
      "cell_type": "code",
      "source": [
        "def to_list(this_path):\n",
        "  \"\"\"\n",
        "  Compiles all data from CSV file into a list of lists. \n",
        "  Each list is a row from the original CSV. \n",
        "  \"\"\"\n",
        "  lines = list()\n",
        "  remove= [1,2,3,4]\n",
        "\n",
        "  with open(this_path, 'r') as read_file:\n",
        "      reader = csv.reader(read_file)\n",
        "      for row_number, row in enumerate(reader, start=1):\n",
        "          if(row_number not in remove):\n",
        "              lines.append(row)\n",
        "\n",
        "  with open('new_csv.csv', 'w') as write_file:\n",
        "      writer = csv.writer(write_file)\n",
        "      writer.writerows(lines)\n",
        "  return lines"
      ],
      "metadata": {
        "id": "OhKc518H85b3"
      },
      "execution_count": 152,
      "outputs": []
    },
    {
      "cell_type": "code",
      "source": [
        "def get_lang_list(lang_name, lang_matrix):\n",
        "  \"\"\"\n",
        "  Extracts the list from the matrix that holds the data about the language we are interested in. \n",
        "  \"\"\"\n",
        "  for lang_list in lang_matrix:\n",
        "    if re.search(\".*\" + lang_name, lang_list[0]) is not None: \n",
        "      return lang_list"
      ],
      "metadata": {
        "id": "f_Yoxi6w8_yl"
      },
      "execution_count": 153,
      "outputs": []
    },
    {
      "cell_type": "code",
      "source": [
        "def get_all_states_speakers(lang_name):\n",
        "  \"\"\"\n",
        "  Iterates through all the states and finds the population of lang_name speakers in that state. \n",
        "  Returns a list of tuples, matching the state to its population of speakers. \n",
        "  \"\"\"\n",
        "  result = []\n",
        "  for file in state_files: \n",
        "    state_list = to_list(file)\n",
        "    lang_list = get_lang_list(lang_name, state_list)\n",
        "    if lang_list is None: \n",
        "        num_speakers = 0\n",
        "    elif lang_list[1] != '(D)':\n",
        "      num_speakers = int(lang_list[1])\n",
        "    else:\n",
        "      num_speakers = 0\n",
        "    result.append((file, num_speakers))\n",
        "  return result"
      ],
      "metadata": {
        "id": "NwT-iU-n-74o"
      },
      "execution_count": 154,
      "outputs": []
    },
    {
      "cell_type": "code",
      "source": [
        "def sorted_states(lang_name):\n",
        "  \"\"\"\n",
        "  Gets the populations of lang_name speakers in each state, \n",
        "  compiles them into a list, and then sorts the list in ascending order. \n",
        "  \"\"\"\n",
        "  lang_states = get_all_states_speakers(lang_name)\n",
        "  return sorted(lang_states, key=lambda x: x[1])"
      ],
      "metadata": {
        "id": "N25gqUFuHWqR"
      },
      "execution_count": 160,
      "outputs": []
    },
    {
      "cell_type": "code",
      "source": [
        "nepali = sorted_states(\"Nepali\")\n",
        "navajo = sorted_states(\"Navajo\")\n",
        "yiddish = sorted_states(\"Yiddish\")"
      ],
      "metadata": {
        "id": "fWjEEXSkHk0r"
      },
      "execution_count": 161,
      "outputs": []
    },
    {
      "cell_type": "code",
      "source": [],
      "metadata": {
        "id": "fZpbgz8kF7lW"
      },
      "execution_count": null,
      "outputs": []
    }
  ]
}